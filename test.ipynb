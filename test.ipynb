{
 "cells": [
  {
   "cell_type": "code",
   "execution_count": null,
   "metadata": {},
   "outputs": [],
   "source": [
    "import os\n",
    "import pandas as pd\n",
    "import wfdb\n",
    "\n",
    "# Replace this path with the path to your local dataset directory\n",
    "data_directory = 'physionet/classification-of-12-lead-ecgs-the-physionetcomputing-in-cardiology-challenge-2020-1.0.2/training/ptb-xl/g1'\n",
    "\n",
    "# Read the labels\n",
    "labels_file = os.path.join(data_directory, 'labels.csv')\n",
    "labels_df = pd.read_csv(labels_file)\n",
    "\n",
    "# Initialize an empty list to store records\n",
    "records = []\n",
    "\n",
    "# Iterate over all records in the labels DataFrame\n",
    "for index, row in labels_df.iterrows():\n",
    "    record_name = row['filename']\n",
    "    record_path = os.path.join(data_directory, record_name)\n",
    "\n",
    "    # Read the ECG signal using the wfdb library\n",
    "    record = wfdb.rdrecord(record_path)\n",
    "\n",
    "    # Extract the ECG signal and store it in a DataFrame\n",
    "    ecg_df = pd.DataFrame(record.p_signal, columns=record.sig_name)\n",
    "\n",
    "    # Add the filename, label, and signal DataFrame to the records list\n",
    "    records.append({\n",
    "        'filename': record_name,\n",
    "        'label': row['label'],\n",
    "        'signal': ecg_df\n",
    "    })\n",
    "\n",
    "# Create a DataFrame from the records list\n",
    "final_df = pd.DataFrame(records)\n",
    "\n",
    "# Print the final DataFrame\n",
    "print(final_df)"
   ]
  }
 ],
 "metadata": {
  "language_info": {
   "name": "python"
  },
  "orig_nbformat": 4
 },
 "nbformat": 4,
 "nbformat_minor": 2
}
