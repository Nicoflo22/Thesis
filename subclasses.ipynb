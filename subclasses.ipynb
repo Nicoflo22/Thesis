{
 "cells": [
  {
   "cell_type": "code",
   "execution_count": null,
   "metadata": {},
   "outputs": [],
   "source": [
    "import numpy as np\n",
    "import pandas as pd\n",
    "import matplotlib.pyplot as plt\n",
    "import os\n",
    "import wfdb\n",
    "from scipy import signal\n",
    "from sklearn.preprocessing import MultiLabelBinarizer\n",
    "from sklearn.model_selection import train_test_split\n",
    "from sklearn.model_selection import train_test_split\n",
    "import neurokit2 as nk\n",
    "from sklearn.preprocessing import MinMaxScaler\n",
    "from scipy.signal import butter, lfilter, freqz, iirnotch\n",
    "import tensorflow as tf\n",
    "from tensorflow.keras import layers\n",
    "\n",
    "pd.reset_option('display.max_columns')  # Show all columns\n",
    "pd.reset_option('display.expand_frame_repr')  # Disable wrapping\n",
    "pd.reset_option('display.max_colwidth')  # Show full contents of each cell\n"
   ]
  },
  {
   "cell_type": "code",
   "execution_count": null,
   "metadata": {},
   "outputs": [],
   "source": [
    "# Load the CSV file\n",
    "superclass_df = pd.read_csv('superclass.csv')\n",
    "\n",
    "# Initialize empty arrays to store the data\n",
    "data = []\n",
    "\n",
    "# Specify the root directory\n",
    "root_dir = '../ptb-xl/ptb-xl-a-large-publicly-available-electrocardiography-dataset-1.0.3/'\n",
    "\n",
    "# Loop over all records in the DataFrame\n",
    "for idx, row in superclass_df.iterrows():\n",
    "    if (idx+1)%100 == 0:\n",
    "        print(f\"Processing record {idx+1}/{len(superclass_df)}\")\n",
    "    # Get filename without extension\n",
    "    filename = os.path.splitext(row['filename_lr'])[0]\n",
    "\n",
    "    # Construct the full path\n",
    "    full_path = os.path.join(root_dir, filename)\n",
    "\n",
    "    # Load the raw ECG signal data from the .dat file\n",
    "    dat, fields = wfdb.rdsamp(full_path)\n",
    "\n",
    "    # Load the labels data from the .hea file\n",
    "    hea = wfdb.rdheader(full_path)\n",
    "\n",
    "    # Add data to the list\n",
    "    data.append({\n",
    "        'record_name': filename,\n",
    "        'superclass': row['diagnostic_superclass'],\n",
    "        'signal': dat,\n",
    "        'age': row['age'],\n",
    "        'sex': row['sex']\n",
    "    })\n",
    "\n",
    "# Convert the list to a DataFrame\n",
    "df = pd.DataFrame(data)\n",
    "\n",
    "# Save the DataFrame\n",
    "df.to_pickle('df_processed.pkl')\n",
    "\n",
    "df_orig = pd.read_pickle('/content/drive/MyDrive/nico/df_processed_250.pkl')\n",
    "df_orig"
   ]
  }
 ],
 "metadata": {
  "language_info": {
   "name": "python"
  },
  "orig_nbformat": 4
 },
 "nbformat": 4,
 "nbformat_minor": 2
}
